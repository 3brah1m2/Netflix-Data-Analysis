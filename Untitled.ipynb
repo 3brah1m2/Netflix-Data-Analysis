{
 "cells": [
  {
   "cell_type": "markdown",
   "id": "7aece928-0149-4309-a9e0-05db0570217d",
   "metadata": {},
   "source": [
    "Netflix Data Analysis"
   ]
  },
  {
   "cell_type": "markdown",
   "id": "6b2f0e5e-de20-4b2c-a0ad-3e6c0fcec0da",
   "metadata": {},
   "source": [
    "# Hypothesis:\n",
    "\n",
    "## Perform exploratory data analysis on the netflix_data.csv data to understand more about movies from the 1990s decade.\n",
    "1. \r\n",
    "What was the most frequent movie duration in the 1990s? Save an approximate answer as an integer called duratio\n",
    "n2. \r\n",
    "\r\n",
    "A movie is considered short if it is less than 90 minutes. Count the number of short action movies released in the 1990s and save this integer as short_movie_count."
   ]
  },
  {
   "cell_type": "code",
   "execution_count": null,
   "id": "60e1c826-45c3-4dd8-b235-01e0ddbdf76d",
   "metadata": {},
   "outputs": [],
   "source": []
  }
 ],
 "metadata": {
  "kernelspec": {
   "display_name": "Python 3 (ipykernel)",
   "language": "python",
   "name": "python3"
  },
  "language_info": {
   "codemirror_mode": {
    "name": "ipython",
    "version": 3
   },
   "file_extension": ".py",
   "mimetype": "text/x-python",
   "name": "python",
   "nbconvert_exporter": "python",
   "pygments_lexer": "ipython3",
   "version": "3.12.4"
  }
 },
 "nbformat": 4,
 "nbformat_minor": 5
}
